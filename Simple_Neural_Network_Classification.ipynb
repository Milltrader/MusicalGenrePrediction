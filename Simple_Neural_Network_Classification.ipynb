{
 "cells": [
  {
   "cell_type": "code",
   "execution_count": 879,
   "metadata": {},
   "outputs": [],
   "source": [
    "import pandas as pd\n",
    "import seaborn as sns\n",
    "import matplotlib.pyplot as plt\n",
    "import numpy as np\n",
    "from sklearn.preprocessing import StandardScaler\n",
    "from sklearn.preprocessing import LabelEncoder\n",
    "\n"
   ]
  },
  {
   "cell_type": "code",
   "execution_count": 880,
   "metadata": {},
   "outputs": [],
   "source": [
    "column_name_mapping = {\n",
    "    \"filename\": \"Track_Name\",\n",
    "    \"length\": \"Duration\",\n",
    "    \"chroma_stft_mean\": \"Average_Note_Intensity\",\n",
    "    \"chroma_stft_var\": \"Note_Intensity_Variability\",\n",
    "    \"rms_mean\": \"Loudness_Average\",\n",
    "    \"rms_var\": \"Loudness_Variability\",\n",
    "    \"spectral_centroid_mean\": \"Brightness_Average\",\n",
    "    \"spectral_centroid_var\": \"Brightness_Variability\",\n",
    "    \"spectral_bandwidth_mean\": \"Sound_Richness_Average\",\n",
    "    \"spectral_bandwidth_var\": \"Sound_Richness_Variability\",\n",
    "    \"rolloff_mean\": \"Bass_to_Treble_Balance_Average\",\n",
    "    \"rolloff_var\": \"Bass_to_Treble_Balance_Variability\",\n",
    "    \"zero_crossing_rate_mean\": \"Percussiveness_Average\",\n",
    "    \"zero_crossing_rate_var\": \"Percussiveness_Variability\",\n",
    "    \"harmony_mean\": \"Harmonic_Content_Average\",\n",
    "    \"harmony_var\": \"Harmonic_Content_Variability\",\n",
    "    \"perceptr_mean\": \"Sharpness_Average\",\n",
    "    \"perceptr_var\": \"Sharpness_Variability\",\n",
    "    \"tempo\": \"Tempo\",\n",
    "    # MFCCs grouped\n",
    "    **{f\"mfcc{i}_mean\": f\"MFCC{i}_Average\" for i in range(1, 21)},\n",
    "    **{f\"mfcc{i}_var\": f\"MFCC{i}_Variability\" for i in range(1, 21)},\n",
    "    \"label\": \"Genre\"\n",
    "}\n"
   ]
  },
  {
   "cell_type": "code",
   "execution_count": 881,
   "metadata": {},
   "outputs": [
    {
     "data": {
      "text/plain": [
       "0      0\n",
       "1      0\n",
       "2      0\n",
       "3      0\n",
       "4      0\n",
       "      ..\n",
       "995    9\n",
       "996    9\n",
       "997    9\n",
       "998    9\n",
       "999    9\n",
       "Name: Genre, Length: 1000, dtype: int32"
      ]
     },
     "execution_count": 881,
     "metadata": {},
     "output_type": "execute_result"
    }
   ],
   "source": [
    "\n",
    "# Load the dataset\n",
    "path = \"features_30_sec.csv/features_30_sec.csv\"\n",
    "data = pd.read_csv(path)\n",
    "\n",
    "# Rename columns using predefined mapping\n",
    "data_labeled = data.rename(columns=column_name_mapping)\n",
    "\n",
    "# Drop the 'Duration' column\n",
    "data_labeled = data_labeled.drop(columns=\"Duration\")\n",
    "\n",
    "# Check for missing values \n",
    "data_labeled.isnull().sum()\n",
    "\n",
    "# Initialize encoders and scalers\n",
    "scaler = StandardScaler()\n",
    "le = LabelEncoder()\n",
    "\n",
    "# Optionally merge rock and metal genres\n",
    "# data_labeled[\"Genre\"] = data_labeled[\"Genre\"].replace({\"rock\": \"rock_metal\", \"metal\": \"rock_metal\"})\n",
    "\n",
    "# Encode the Genre column\n",
    "data_labeled[\"Genre\"] = le.fit_transform(data_labeled[\"Genre\"])\n",
    "\n",
    "# Scale feature columns (excluding the first column and target)\n",
    "data_labeled.iloc[:, 1:-1] = scaler.fit_transform(data_labeled.iloc[:, 1:-1])\n",
    "\n",
    "# Separate features and target\n",
    "X = data_labeled.iloc[:, 1:-1]  # Fixed slicing\n",
    "y = data_labeled[\"Genre\"]\n",
    "\n",
    "y"
   ]
  },
  {
   "cell_type": "code",
   "execution_count": 882,
   "metadata": {},
   "outputs": [
    {
     "name": "stdout",
     "output_type": "stream",
     "text": [
      "Encoded Labels: {0: 'blues', 1: 'classical', 2: 'country', 3: 'disco', 4: 'hiphop', 5: 'jazz', 6: 'metal', 7: 'pop', 8: 'reggae', 9: 'rock'}\n"
     ]
    }
   ],
   "source": [
    "genre_mapping = {index: label for index, label in enumerate(le.classes_)}\n",
    "print(\"Encoded Labels:\", genre_mapping)"
   ]
  },
  {
   "cell_type": "code",
   "execution_count": 883,
   "metadata": {},
   "outputs": [
    {
     "name": "stdout",
     "output_type": "stream",
     "text": [
      "Data Shape: (1000, 57)\n",
      "Data Labels Shape: (1000,)\n",
      "       Average_Note_Intensity  Note_Intensity_Variability  Loudness_Average  \\\n",
      "count            1.000000e+03                1.000000e+03      1.000000e+03   \n",
      "mean            -4.831691e-16               -1.882938e-15     -4.973799e-16   \n",
      "std              1.000500e+00                1.000500e+00      1.000500e+00   \n",
      "min             -2.531623e+00               -5.404508e+00     -1.913980e+00   \n",
      "25%             -7.239436e-01               -5.228113e-01     -6.743707e-01   \n",
      "50%              5.469008e-02                3.554380e-02     -1.292693e-01   \n",
      "75%              7.011661e-01                6.358062e-01      6.816804e-01   \n",
      "max              3.489945e+00                2.815991e+00      4.067671e+00   \n",
      "\n",
      "       Loudness_Variability  Brightness_Average  Brightness_Variability  \\\n",
      "count          1.000000e+03        1.000000e+03            1.000000e+03   \n",
      "mean          -9.947598e-17        1.563194e-16            9.947598e-17   \n",
      "std            1.000500e+00        1.000500e+00            1.000500e+00   \n",
      "min           -8.388031e-01       -2.280233e+00           -1.152437e+00   \n",
      "25%           -5.807743e-01       -8.022381e-01           -7.121082e-01   \n",
      "50%           -3.399581e-01        1.045579e-02           -3.274413e-01   \n",
      "75%            1.447018e-01        6.840582e-01            3.555196e-01   \n",
      "max            6.779586e+00        3.121094e+00            6.406683e+00   \n",
      "\n",
      "       Sound_Richness_Average  Sound_Richness_Variability  \\\n",
      "count            1.000000e+03                1.000000e+03   \n",
      "mean            -4.405365e-16                1.563194e-16   \n",
      "std              1.000500e+00                1.000500e+00   \n",
      "min             -2.555777e+00               -1.309982e+00   \n",
      "25%             -6.373888e-01               -7.230003e-01   \n",
      "50%             -4.020169e-02               -2.603701e-01   \n",
      "75%              6.385832e-01                4.698022e-01   \n",
      "max              2.408702e+00                5.784883e+00   \n",
      "\n",
      "       Bass_to_Treble_Balance_Average  Bass_to_Treble_Balance_Variability  \\\n",
      "count                    1.000000e+03                        1.000000e+03   \n",
      "mean                    -1.421085e-16                        8.526513e-17   \n",
      "std                      1.000500e+00                        1.000500e+00   \n",
      "min                     -2.428462e+00                       -1.284537e+00   \n",
      "25%                     -7.569737e-01                       -7.523413e-01   \n",
      "50%                      5.525727e-02                       -2.585211e-01   \n",
      "75%                      6.113461e-01                        4.991090e-01   \n",
      "max                      2.608712e+00                        4.785657e+00   \n",
      "\n",
      "       ...  MFCC16_Average  MFCC16_Variability  MFCC17_Average  \\\n",
      "count  ...    1.000000e+03         1000.000000    1.000000e+03   \n",
      "mean   ...   -7.105427e-18            0.000000    3.552714e-17   \n",
      "std    ...    1.000500e+00            1.000500    1.000500e+00   \n",
      "min    ...   -3.679976e+00           -1.527071   -2.917851e+00   \n",
      "25%    ...   -6.579963e-01           -0.602828   -7.127549e-01   \n",
      "50%    ...    1.412927e-02           -0.248952   -2.189739e-02   \n",
      "75%    ...    7.017169e-01            0.324620    6.877065e-01   \n",
      "max    ...    2.689519e+00            9.838616    3.397304e+00   \n",
      "\n",
      "       MFCC17_Variability  MFCC18_Average  MFCC18_Variability  MFCC19_Average  \\\n",
      "count        1.000000e+03    1.000000e+03        1.000000e+03    1.000000e+03   \n",
      "mean        -3.552714e-18    1.421085e-17        3.197442e-17   -3.197442e-17   \n",
      "std          1.000500e+00    1.000500e+00        1.000500e+00    1.000500e+00   \n",
      "min         -1.455426e+00   -3.224939e+00       -1.404460e+00   -4.308167e+00   \n",
      "25%         -6.515591e-01   -6.502718e-01       -6.348260e-01   -6.217675e-01   \n",
      "50%         -2.365623e-01    4.187729e-02       -2.590593e-01   -1.734141e-02   \n",
      "75%          3.707804e-01    6.753040e-01        3.394888e-01    6.604374e-01   \n",
      "max          1.026301e+01    3.847954e+00        7.828839e+00    4.534718e+00   \n",
      "\n",
      "       MFCC19_Variability  MFCC20_Average  MFCC20_Variability  \n",
      "count        1.000000e+03    1.000000e+03        1.000000e+03  \n",
      "mean         9.947598e-17    2.131628e-17       -1.065814e-16  \n",
      "std          1.000500e+00    1.000500e+00        1.000500e+00  \n",
      "min         -1.419535e+00   -4.911044e+00       -1.375252e+00  \n",
      "25%         -6.599666e-01   -5.928543e-01       -6.139295e-01  \n",
      "50%         -2.370778e-01   -1.849788e-02       -2.420034e-01  \n",
      "75%          3.335801e-01    6.278769e-01        3.373294e-01  \n",
      "max          8.798840e+00    4.293246e+00        9.643412e+00  \n",
      "\n",
      "[8 rows x 57 columns]\n"
     ]
    }
   ],
   "source": [
    "print(\"Data Shape:\", X.shape)\n",
    "print(\"Data Labels Shape:\", y.shape)\n",
    "print(X.describe())"
   ]
  },
  {
   "cell_type": "markdown",
   "metadata": {},
   "source": [
    "Uncomment the code below to see the charts of the data distribution"
   ]
  },
  {
   "cell_type": "code",
   "execution_count": 884,
   "metadata": {},
   "outputs": [],
   "source": [
    "# num_features = X.select_dtypes(include=['number']).columns\n",
    "\n",
    "# # Set up figure size\n",
    "# plt.figure(figsize=(20, 30))\n",
    "\n",
    "# # Plot each feature's distribution\n",
    "# for i, feature in enumerate(num_features):\n",
    "#     plt.subplot(10, 6, i + 1)  # Adjust subplot grid if needed\n",
    "#     sns.histplot(X[feature], bins=30, kde=True)\n",
    "#     plt.title(f\"Distribution of {feature}\")\n",
    "\n",
    "# # Show the plots\n",
    "# plt.tight_layout()\n",
    "# plt.show()"
   ]
  },
  {
   "cell_type": "markdown",
   "metadata": {},
   "source": [
    "Capping outliers had a negative effect on the model"
   ]
  },
  {
   "cell_type": "code",
   "execution_count": 885,
   "metadata": {},
   "outputs": [],
   "source": [
    "\n",
    "# lower_percentile = X.iloc[:, :].quantile(0.01)\n",
    "# upper_percentile = X.iloc[:, :].quantile(0.99)\n",
    "\n",
    "# X_capped = X.iloc[:, 1:].clip(lower=lower_percentile, upper=upper_percentile, axis=1)\n"
   ]
  },
  {
   "cell_type": "code",
   "execution_count": 886,
   "metadata": {},
   "outputs": [],
   "source": [
    "import torch\n",
    "import torch.nn as nn\n",
    "from sklearn.model_selection import train_test_split"
   ]
  },
  {
   "cell_type": "code",
   "execution_count": 887,
   "metadata": {},
   "outputs": [
    {
     "data": {
      "text/plain": [
       "'cuda'"
      ]
     },
     "execution_count": 887,
     "metadata": {},
     "output_type": "execute_result"
    }
   ],
   "source": [
    "device = \"cuda\" if torch.cuda.is_available() else \"cpu\"\n",
    "device"
   ]
  },
  {
   "cell_type": "code",
   "execution_count": 888,
   "metadata": {},
   "outputs": [
    {
     "data": {
      "text/plain": [
       "Average_Note_Intensity                float64\n",
       "Note_Intensity_Variability            float64\n",
       "Loudness_Average                      float64\n",
       "Loudness_Variability                  float64\n",
       "Brightness_Average                    float64\n",
       "Brightness_Variability                float64\n",
       "Sound_Richness_Average                float64\n",
       "Sound_Richness_Variability            float64\n",
       "Bass_to_Treble_Balance_Average        float64\n",
       "Bass_to_Treble_Balance_Variability    float64\n",
       "Percussiveness_Average                float64\n",
       "Percussiveness_Variability            float64\n",
       "Harmonic_Content_Average              float64\n",
       "Harmonic_Content_Variability          float64\n",
       "Sharpness_Average                     float64\n",
       "Sharpness_Variability                 float64\n",
       "Tempo                                 float64\n",
       "MFCC1_Average                         float64\n",
       "MFCC1_Variability                     float64\n",
       "MFCC2_Average                         float64\n",
       "MFCC2_Variability                     float64\n",
       "MFCC3_Average                         float64\n",
       "MFCC3_Variability                     float64\n",
       "MFCC4_Average                         float64\n",
       "MFCC4_Variability                     float64\n",
       "MFCC5_Average                         float64\n",
       "MFCC5_Variability                     float64\n",
       "MFCC6_Average                         float64\n",
       "MFCC6_Variability                     float64\n",
       "MFCC7_Average                         float64\n",
       "MFCC7_Variability                     float64\n",
       "MFCC8_Average                         float64\n",
       "MFCC8_Variability                     float64\n",
       "MFCC9_Average                         float64\n",
       "MFCC9_Variability                     float64\n",
       "MFCC10_Average                        float64\n",
       "MFCC10_Variability                    float64\n",
       "MFCC11_Average                        float64\n",
       "MFCC11_Variability                    float64\n",
       "MFCC12_Average                        float64\n",
       "MFCC12_Variability                    float64\n",
       "MFCC13_Average                        float64\n",
       "MFCC13_Variability                    float64\n",
       "MFCC14_Average                        float64\n",
       "MFCC14_Variability                    float64\n",
       "MFCC15_Average                        float64\n",
       "MFCC15_Variability                    float64\n",
       "MFCC16_Average                        float64\n",
       "MFCC16_Variability                    float64\n",
       "MFCC17_Average                        float64\n",
       "MFCC17_Variability                    float64\n",
       "MFCC18_Average                        float64\n",
       "MFCC18_Variability                    float64\n",
       "MFCC19_Average                        float64\n",
       "MFCC19_Variability                    float64\n",
       "MFCC20_Average                        float64\n",
       "MFCC20_Variability                    float64\n",
       "dtype: object"
      ]
     },
     "execution_count": 888,
     "metadata": {},
     "output_type": "execute_result"
    }
   ],
   "source": [
    "X.dtypes"
   ]
  },
  {
   "cell_type": "code",
   "execution_count": 889,
   "metadata": {},
   "outputs": [],
   "source": [
    "X_prepared = torch.tensor(X.values, dtype=torch.float32).to(device)\n",
    "y_prepared = torch.tensor(y.values, dtype=torch.long).to(device)\n",
    "\n",
    "# Split into train and test sets\n",
    "X_train, X_test, y_train, y_test = train_test_split(X_prepared, \n",
    "                                                    y_prepared, \n",
    "                                                    test_size=0.2,\n",
    "                                                    random_state=52\n",
    ")\n",
    "\n",
    "X_train[:2], y_train[:5]\n",
    "\n",
    "X_train, y_train = X_train.to(device), y_train.to(device)\n",
    "X_test, y_test = X_test.to(device), y_test.to(device)"
   ]
  },
  {
   "cell_type": "code",
   "execution_count": 890,
   "metadata": {},
   "outputs": [
    {
     "data": {
      "text/plain": [
       "57"
      ]
     },
     "execution_count": 890,
     "metadata": {},
     "output_type": "execute_result"
    }
   ],
   "source": [
    "X.shape[1]"
   ]
  },
  {
   "cell_type": "code",
   "execution_count": 891,
   "metadata": {},
   "outputs": [],
   "source": [
    "# Creating Datasets for mini-batch training\n",
    "\n",
    "from torch.utils.data import DataLoader, TensorDataset\n",
    "\n",
    "train_dataset = TensorDataset(X_train, y_train)\n",
    "train_loader = DataLoader(train_dataset, batch_size=16, shuffle=True)"
   ]
  },
  {
   "cell_type": "markdown",
   "metadata": {},
   "source": [
    "Defining the structure of the NN"
   ]
  },
  {
   "cell_type": "code",
   "execution_count": 892,
   "metadata": {},
   "outputs": [
    {
     "data": {
      "text/plain": [
       "MusicGenreClassifier(\n",
       "  (net): Sequential(\n",
       "    (0): Linear(in_features=57, out_features=140, bias=True)\n",
       "    (1): ReLU()\n",
       "    (2): Dropout(p=0.3, inplace=False)\n",
       "    (3): Linear(in_features=140, out_features=70, bias=True)\n",
       "    (4): ReLU()\n",
       "    (5): Dropout(p=0.3, inplace=False)\n",
       "    (6): Linear(in_features=70, out_features=35, bias=True)\n",
       "    (7): ReLU()\n",
       "    (8): Dropout(p=0.2, inplace=False)\n",
       "    (9): Linear(in_features=35, out_features=10, bias=True)\n",
       "  )\n",
       ")"
      ]
     },
     "execution_count": 892,
     "metadata": {},
     "output_type": "execute_result"
    }
   ],
   "source": [
    "class MusicGenreClassifier(nn.Module):\n",
    "    def __init__(self, input_size, num_classes, hidden_size=70):\n",
    "        super().__init__()\n",
    "        self.net = nn.Sequential(\n",
    "            nn.Linear(input_size, hidden_size*2),\n",
    "            nn.ReLU(),\n",
    "            nn.Dropout(0.3),\n",
    "            nn.Linear(hidden_size*2, hidden_size),\n",
    "            nn.ReLU(),\n",
    "            nn.Dropout(0.3),\n",
    "            nn.Linear(hidden_size, hidden_size//2),\n",
    "            nn.ReLU(),\n",
    "            nn.Dropout(0.2),\n",
    "            nn.Linear(hidden_size//2, num_classes)\n",
    "        )\n",
    "\n",
    "    def forward(self, x):\n",
    "        return self.net(x)\n",
    "    \n",
    "model_music = MusicGenreClassifier(input_size=57, num_classes=len(genre_mapping)).to(device)\n",
    "model_music"
   ]
  },
  {
   "cell_type": "markdown",
   "metadata": {},
   "source": [
    "Setting uo the loss and optimizer with the l2 regularization"
   ]
  },
  {
   "cell_type": "code",
   "execution_count": 893,
   "metadata": {},
   "outputs": [],
   "source": [
    "loss_fn = nn.CrossEntropyLoss()\n",
    "optimizer = torch.optim.Adam(model_music.parameters(), lr=0.001, weight_decay=0.0001)"
   ]
  },
  {
   "cell_type": "code",
   "execution_count": 894,
   "metadata": {},
   "outputs": [
    {
     "name": "stdout",
     "output_type": "stream",
     "text": [
      "Epoch 0 => Loss: 2.1395, Accuracy: 0.2500, Test Loss: 2.1298, Test Accuracy: 0.4000\n",
      "Epoch 10 => Loss: 0.9353, Accuracy: 0.6250, Test Loss: 0.9712, Test Accuracy: 0.6300\n",
      "Epoch 20 => Loss: 0.6061, Accuracy: 0.7500, Test Loss: 0.9698, Test Accuracy: 0.6300\n",
      "Epoch 30 => Loss: 0.5660, Accuracy: 0.7500, Test Loss: 1.0372, Test Accuracy: 0.6800\n",
      "Epoch 40 => Loss: 0.3834, Accuracy: 0.8750, Test Loss: 1.0212, Test Accuracy: 0.6750\n",
      "Epoch 50 => Loss: 0.3587, Accuracy: 0.8750, Test Loss: 1.0313, Test Accuracy: 0.7050\n",
      "Epoch 60 => Loss: 0.1073, Accuracy: 0.9375, Test Loss: 1.0832, Test Accuracy: 0.6950\n",
      "Epoch 70 => Loss: 0.3509, Accuracy: 0.9375, Test Loss: 1.2356, Test Accuracy: 0.6900\n",
      "Epoch 80 => Loss: 0.2062, Accuracy: 0.9375, Test Loss: 1.2231, Test Accuracy: 0.7100\n",
      "Epoch 90 => Loss: 0.0716, Accuracy: 0.9375, Test Loss: 1.3020, Test Accuracy: 0.6800\n",
      "Epoch 100 => Loss: 0.0326, Accuracy: 1.0000, Test Loss: 1.2671, Test Accuracy: 0.7000\n",
      "Epoch 110 => Loss: 0.7505, Accuracy: 0.8750, Test Loss: 1.4428, Test Accuracy: 0.6950\n",
      "Epoch 120 => Loss: 0.0349, Accuracy: 1.0000, Test Loss: 1.4551, Test Accuracy: 0.7050\n",
      "Epoch 130 => Loss: 0.0307, Accuracy: 1.0000, Test Loss: 1.5356, Test Accuracy: 0.7150\n",
      "Epoch 140 => Loss: 0.0071, Accuracy: 1.0000, Test Loss: 1.5671, Test Accuracy: 0.6800\n",
      "Epoch 150 => Loss: 0.1261, Accuracy: 1.0000, Test Loss: 1.5201, Test Accuracy: 0.7050\n",
      "Epoch 160 => Loss: 0.0358, Accuracy: 1.0000, Test Loss: 1.4381, Test Accuracy: 0.6800\n",
      "Epoch 170 => Loss: 0.0897, Accuracy: 0.9375, Test Loss: 1.5756, Test Accuracy: 0.7200\n",
      "Epoch 180 => Loss: 0.1163, Accuracy: 0.9375, Test Loss: 1.7222, Test Accuracy: 0.7100\n",
      "Epoch 190 => Loss: 0.1733, Accuracy: 0.9375, Test Loss: 1.6501, Test Accuracy: 0.6850\n",
      "Epoch 200 => Loss: 0.1369, Accuracy: 0.9375, Test Loss: 1.7491, Test Accuracy: 0.7050\n",
      "Epoch 210 => Loss: 0.0613, Accuracy: 1.0000, Test Loss: 1.6476, Test Accuracy: 0.7000\n",
      "Epoch 220 => Loss: 0.0695, Accuracy: 0.9375, Test Loss: 1.8049, Test Accuracy: 0.7100\n",
      "Early stopping on epoch 221\n"
     ]
    }
   ],
   "source": [
    "torch.manual_seed(52)\n",
    "\n",
    "epochs = 20000\n",
    "\n",
    "best_loss = float(\"inf\")\n",
    "patience = 200\n",
    "epochs_no_improve = 0\n",
    "\n",
    "for epoch in range(epochs):   \n",
    "\n",
    "    model_music.train()\n",
    "\n",
    "    for batch_X, batch_y in train_loader:\n",
    "        y_pred = model_music(batch_X)\n",
    "        loss= loss_fn(y_pred, batch_y)\n",
    "\n",
    "        accuracy = (y_pred.argmax(1) == batch_y).float().mean()\n",
    "        optimizer.zero_grad()\n",
    "        loss.backward()\n",
    "        optimizer.step()\n",
    "\n",
    "    model_music.eval()\n",
    "    with torch.inference_mode():\n",
    "        y_test_pred = model_music(X_test)\n",
    "        test_loss = loss_fn(y_test_pred, y_test)\n",
    "        test_accuracy = (y_test_pred.argmax(1) == y_test).float().mean()\n",
    "\n",
    "    if test_loss < best_loss:\n",
    "        best_loss = test_loss\n",
    "        epochs_no_improve = 0\n",
    "        # (Optional) Save the best model weights here\n",
    "        # torch.save(model_music.state_dict(), \"best_model.pth\")\n",
    "    else:\n",
    "        epochs_no_improve += 1\n",
    "\n",
    "    if epoch % 10 == 0:\n",
    "        print(f\"Epoch {epoch} => Loss: {loss:.4f}, Accuracy: {accuracy:.4f}, Test Loss: {test_loss:.4f}, Test Accuracy: {test_accuracy:.4f}\")\n",
    "\n",
    "    if epochs_no_improve >= patience:\n",
    "        print(f\"Early stopping on epoch {epoch}\")\n",
    "        break\n"
   ]
  },
  {
   "cell_type": "code",
   "execution_count": 895,
   "metadata": {},
   "outputs": [],
   "source": [
    "model_music.eval()\n",
    "with torch.inference_mode():\n",
    "    y_test_pred_logits = model_music(X_test)  # shape: [num_test_samples, num_classes]\n",
    "    y_test_pred_labels = y_test_pred_logits.argmax(dim=1)\n"
   ]
  },
  {
   "cell_type": "code",
   "execution_count": 896,
   "metadata": {},
   "outputs": [
    {
     "name": "stdout",
     "output_type": "stream",
     "text": [
      "Confusion Matrix:\n",
      " [[13  1  0  0  0  3  1  1  1  0]\n",
      " [ 0 14  0  0  0  6  0  0  0  0]\n",
      " [ 1  1 16  0  0  1  0  0  1  3]\n",
      " [ 0  0  1 10  2  0  2  1  0  4]\n",
      " [ 1  0  0  0 15  0  1  0  4  0]\n",
      " [ 0  1  0  0  0 14  0  0  0  0]\n",
      " [ 2  0  0  0  1  0 20  0  1  1]\n",
      " [ 0  0  0  1  0  0  0 14  2  0]\n",
      " [ 1  0  0  1  1  0  0  1 15  3]\n",
      " [ 3  0  1  1  0  1  1  0  1  9]]\n"
     ]
    }
   ],
   "source": [
    "from sklearn.metrics import confusion_matrix\n",
    "\n",
    "# Convert tensors to CPU & NumPy if you're on GPU\n",
    "# (If you're already on CPU, you can skip .cpu())\n",
    "y_test_np = y_test.cpu().numpy()\n",
    "y_test_pred_np = y_test_pred_labels.cpu().numpy()\n",
    "\n",
    "# Create the confusion matrix\n",
    "cm = confusion_matrix(y_test_np, y_test_pred_np)\n",
    "print(\"Confusion Matrix:\\n\", cm)\n"
   ]
  },
  {
   "cell_type": "code",
   "execution_count": 897,
   "metadata": {},
   "outputs": [
    {
     "data": {
      "image/png": "[encoded data removed]",
      "text/plain": [
       "<Figure size 800x600 with 2 Axes>"
      ]
     },
     "metadata": {},
     "output_type": "display_data"
    }
   ],
   "source": [
    "# Suppose you have a dictionary mapping like:\n",
    "# genre_mapping = {0: 'blues', 1: 'classical', ...}\n",
    "labels = list(genre_mapping.values())\n",
    "\n",
    "plt.figure(figsize=(8, 6))\n",
    "sns.heatmap(cm, annot=True, fmt='d', cmap='Blues',\n",
    "            xticklabels=labels, yticklabels=labels)\n",
    "plt.xlabel(\"Predicted\")\n",
    "plt.ylabel(\"Actual\")\n",
    "plt.title(\"Confusion Matrix\")\n",
    "plt.show()\n"
   ]
  },
  {
   "cell_type": "markdown",
   "metadata": {},
   "source": [
    "After trying to teach the model with the different structure (activation functions, number and the structure of the hidden layers), regularization weights, learning rate, batch sizes, etc. I have achieved the predictions of 71% on the test set with a strong overfit.   "
   ]
  }
 ],
 "metadata": {
  "kernelspec": {
   "display_name": "Python 3",
   "language": "python",
   "name": "python3"
  },
  "language_info": {
   "codemirror_mode": {
    "name": "ipython",
    "version": 3
   },
   "file_extension": ".py",
   "mimetype": "text/x-python",
   "name": "python",
   "nbconvert_exporter": "python",
   "pygments_lexer": "ipython3",
   "version": "3.12.8"
  }
 },
 "nbformat": 4,
 "nbformat_minor": 2
}
